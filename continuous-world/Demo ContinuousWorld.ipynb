{
 "cells": [
  {
   "cell_type": "code",
   "execution_count": 1,
   "metadata": {
    "collapsed": true
   },
   "outputs": [],
   "source": [
    "from interactivecanvas import *"
   ]
  },
  {
   "cell_type": "markdown",
   "metadata": {},
   "source": [
    "The class ContinuousWorld is being used to represent the world along with obstacles. Obstacles are of the form of a Polygon. Their vertices are stored in the self.map[\"obstacles\"]\n",
    "list.\n",
    "\n",
    "The current demo displays the ability to modify the world using both python and user interaction. This demo makes use of HTML5 Canvas. The same can be used for discrete world. Only how the world is handled in python will be different in that case. In case of discrete world a 2D array will be used to keep track of the world map.\n",
    "\n"
   ]
  },
  {
   "cell_type": "code",
   "execution_count": 2,
   "metadata": {
    "collapsed": true
   },
   "outputs": [],
   "source": [
    "a = ContinuousWorld()"
   ]
  },
  {
   "cell_type": "code",
   "execution_count": 5,
   "metadata": {
    "collapsed": false
   },
   "outputs": [
    {
     "data": {
      "text/html": [
       "\n",
       "<div>\n",
       "    <canvas class=\"main-robo-world\" width=\"400\" height=\"400\" style=\"background:rgba(158, 167, 184, 0.2);\" data-world_name=\"a\"  onclick=\"getPosition(this,event)\"/>\n",
       "</div>\n",
       "\n",
       "<script type=\"text/javascript\">\n",
       "var all_polygons = [[[0, 0], [50, 0], [50, 50]]]\n",
       "</script>\n",
       "\n",
       "<script>\n",
       "var latest_output_area =\"NONE\"; // Jquery object for the DOM element of output area which was used most recently\n",
       "\n",
       "function handle_output(out, block){\n",
       "    var output = out.content.data[\"text/html\"];\n",
       "    latest_output_area.html(output);\n",
       "}\n",
       "\n",
       "function polygon_complete(canvas, vertices){\n",
       "    latest_output_area = $(canvas).parents('.output_subarea');\n",
       "    var world_object_name = canvas.dataset.world_name;\n",
       "    var command = world_object_name + \".add_obstacle(\" + JSON.stringify(vertices) + \")\";\n",
       "    console.log(\"Executing Command: \" + command);\n",
       "    var kernel = IPython.notebook.kernel;\n",
       "    var callbacks = { 'iopub' : {'output' : handle_output}};\n",
       "    kernel.execute(command,callbacks);\n",
       "}\n",
       "\n",
       "var canvas , ctx;\n",
       "\n",
       "function drawPolygon(array) {\n",
       "    ctx.fillStyle = '#f00';\n",
       "    ctx.beginPath();\n",
       "    ctx.moveTo(array[0][0],array[0][1]);\n",
       "    for(var i = 1;i<array.length;++i)\n",
       "    {\n",
       "        ctx.lineTo(array[i][0], array[i][1]);\n",
       "    }\n",
       "    ctx.closePath();\n",
       "    ctx.fill();\n",
       "}\n",
       "\n",
       "var pArray = new Array();\n",
       "\n",
       "function getPosition(obj,event) {\n",
       "    canvas = obj;\n",
       "    ctx = canvas.getContext('2d');\n",
       "    var x = new Number();\n",
       "    var y = new Number();\n",
       "\n",
       "    x = event.pageX;\n",
       "    y = event.pageY;\n",
       "\n",
       "    x -= $(canvas).offset().left;\n",
       "    y -= $(canvas).offset().top;\n",
       "\n",
       "    drawPoint(x,y);\n",
       "    //draw dot\n",
       "    if(pArray.length>1)\n",
       "    {\n",
       "        drawPoint(pArray[0][0],pArray[0][1]);\n",
       "    }\n",
       "    //check overlap\n",
       "    if(ctx.isPointInPath(x, y) && (pArray.length>1)) {\n",
       "        //Do something\n",
       "        drawPolygon(pArray);\n",
       "        polygon_complete(canvas,pArray);\n",
       "    }\n",
       "    else {\n",
       "        var point = new Array();\n",
       "        point.push(x,y);\n",
       "        pArray.push(point);\n",
       "    }\n",
       "}\n",
       "\n",
       "function drawPoint(x, y) {\n",
       "    ctx.beginPath();\n",
       "    ctx.arc(x, y, 5, 0, Math.PI*2);\n",
       "    ctx.fillStyle = '#00f';\n",
       "    ctx.fill();\n",
       "    ctx.closePath();\n",
       "}\n",
       "\n",
       "function initalizeObstacles(objects) {\n",
       "    canvas = $('canvas.main-robo-world').get(0);\n",
       "    ctx = canvas.getContext('2d');\n",
       "    $('canvas.main-robo-world').removeClass('main-robo-world');\n",
       "    for(var i=0;i<objects.length;++i) {\n",
       "        drawPolygon(objects[i]);\n",
       "    }\n",
       "    pArray.length = 0;\n",
       "}\n",
       "\n",
       "initalizeObstacles(all_polygons);\n",
       "\n",
       "</script>\n"
      ],
      "text/plain": [
       "<IPython.core.display.HTML object>"
      ]
     },
     "metadata": {},
     "output_type": "display_data"
    }
   ],
   "source": [
    "a.add_obstacle([[0,0],[50,0],[50,50]])"
   ]
  },
  {
   "cell_type": "code",
   "execution_count": 6,
   "metadata": {
    "collapsed": false
   },
   "outputs": [
    {
     "data": {
      "text/plain": [
       "{'agents': [], 'obstacles': [[[0, 0], [50, 0], [50, 50]]]}"
      ]
     },
     "execution_count": 6,
     "metadata": {},
     "output_type": "execute_result"
    }
   ],
   "source": [
    "a.map"
   ]
  },
  {
   "cell_type": "markdown",
   "metadata": {},
   "source": [
    "Now lets draw our obstacle using our UI. This has to be done by clicking on the canvas and selecting points and finally clicking on the starting point to finish the polygon. \n",
    "\n",
    "![VkhsDF](http://cdn.makeagif.com/media/3-22-2016/VkhsDF.gif)"
   ]
  },
  {
   "cell_type": "code",
   "execution_count": 8,
   "metadata": {
    "collapsed": false
   },
   "outputs": [
    {
     "data": {
      "text/html": [
       "\n",
       "<div>\n",
       "    <canvas class=\"main-robo-world\" width=\"400\" height=\"400\" style=\"background:rgba(158, 167, 184, 0.2);\" data-world_name=\"a\"  onclick=\"getPosition(this,event)\"/>\n",
       "</div>\n",
       "\n",
       "<script type=\"text/javascript\">\n",
       "var all_polygons = [[[0, 0], [50, 0], [50, 50]], [[165.23333740234375, 109.88333129882812], [305.1499938964844, 125.88333129882812], [208.14999389648438, 246.88333129882812]]]\n",
       "</script>\n",
       "\n",
       "<script>\n",
       "var latest_output_area =\"NONE\"; // Jquery object for the DOM element of output area which was used most recently\n",
       "\n",
       "function handle_output(out, block){\n",
       "    var output = out.content.data[\"text/html\"];\n",
       "    latest_output_area.html(output);\n",
       "}\n",
       "\n",
       "function polygon_complete(canvas, vertices){\n",
       "    latest_output_area = $(canvas).parents('.output_subarea');\n",
       "    var world_object_name = canvas.dataset.world_name;\n",
       "    var command = world_object_name + \".add_obstacle(\" + JSON.stringify(vertices) + \")\";\n",
       "    console.log(\"Executing Command: \" + command);\n",
       "    var kernel = IPython.notebook.kernel;\n",
       "    var callbacks = { 'iopub' : {'output' : handle_output}};\n",
       "    kernel.execute(command,callbacks);\n",
       "}\n",
       "\n",
       "var canvas , ctx;\n",
       "\n",
       "function drawPolygon(array) {\n",
       "    ctx.fillStyle = '#f00';\n",
       "    ctx.beginPath();\n",
       "    ctx.moveTo(array[0][0],array[0][1]);\n",
       "    for(var i = 1;i<array.length;++i)\n",
       "    {\n",
       "        ctx.lineTo(array[i][0], array[i][1]);\n",
       "    }\n",
       "    ctx.closePath();\n",
       "    ctx.fill();\n",
       "}\n",
       "\n",
       "var pArray = new Array();\n",
       "\n",
       "function getPosition(obj,event) {\n",
       "    canvas = obj;\n",
       "    ctx = canvas.getContext('2d');\n",
       "    var x = new Number();\n",
       "    var y = new Number();\n",
       "\n",
       "    x = event.pageX;\n",
       "    y = event.pageY;\n",
       "\n",
       "    x -= $(canvas).offset().left;\n",
       "    y -= $(canvas).offset().top;\n",
       "\n",
       "    drawPoint(x,y);\n",
       "    //draw dot\n",
       "    if(pArray.length>1)\n",
       "    {\n",
       "        drawPoint(pArray[0][0],pArray[0][1]);\n",
       "    }\n",
       "    //check overlap\n",
       "    if(ctx.isPointInPath(x, y) && (pArray.length>1)) {\n",
       "        //Do something\n",
       "        drawPolygon(pArray);\n",
       "        polygon_complete(canvas,pArray);\n",
       "    }\n",
       "    else {\n",
       "        var point = new Array();\n",
       "        point.push(x,y);\n",
       "        pArray.push(point);\n",
       "    }\n",
       "}\n",
       "\n",
       "function drawPoint(x, y) {\n",
       "    ctx.beginPath();\n",
       "    ctx.arc(x, y, 5, 0, Math.PI*2);\n",
       "    ctx.fillStyle = '#00f';\n",
       "    ctx.fill();\n",
       "    ctx.closePath();\n",
       "}\n",
       "\n",
       "function initalizeObstacles(objects) {\n",
       "    canvas = $('canvas.main-robo-world').get(0);\n",
       "    ctx = canvas.getContext('2d');\n",
       "    $('canvas.main-robo-world').removeClass('main-robo-world');\n",
       "    for(var i=0;i<objects.length;++i) {\n",
       "        drawPolygon(objects[i]);\n",
       "    }\n",
       "    pArray.length = 0;\n",
       "}\n",
       "\n",
       "initalizeObstacles(all_polygons);\n",
       "\n",
       "</script>\n"
      ],
      "text/plain": [
       "<IPython.core.display.HTML object>"
      ]
     },
     "metadata": {},
     "output_type": "display_data"
    }
   ],
   "source": [
    "a.show()"
   ]
  },
  {
   "cell_type": "code",
   "execution_count": 9,
   "metadata": {
    "collapsed": false
   },
   "outputs": [
    {
     "data": {
      "text/plain": [
       "{'agents': [],\n",
       " 'obstacles': [[[0, 0], [50, 0], [50, 50]],\n",
       "  [[165.23333740234375, 109.88333129882812],\n",
       "   [305.1499938964844, 125.88333129882812],\n",
       "   [208.14999389648438, 246.88333129882812]]]}"
      ]
     },
     "execution_count": 9,
     "metadata": {},
     "output_type": "execute_result"
    }
   ],
   "source": [
    "a.map"
   ]
  },
  {
   "cell_type": "markdown",
   "metadata": {},
   "source": [
    "The collision detection function can be implemented using standard algorithms that determine whether a point lies inside a convex polygon."
   ]
  },
  {
   "cell_type": "code",
   "execution_count": null,
   "metadata": {
    "collapsed": true
   },
   "outputs": [],
   "source": []
  }
 ],
 "metadata": {
  "kernelspec": {
   "display_name": "Python 3",
   "language": "python",
   "name": "python3"
  },
  "language_info": {
   "codemirror_mode": {
    "name": "ipython",
    "version": 3
   },
   "file_extension": ".py",
   "mimetype": "text/x-python",
   "name": "python",
   "nbconvert_exporter": "python",
   "pygments_lexer": "ipython3",
   "version": "3.4.3"
  }
 },
 "nbformat": 4,
 "nbformat_minor": 0
}
